{
  "nbformat": 4,
  "nbformat_minor": 0,
  "metadata": {
    "colab": {
      "name": "exercises.ipynb",
      "version": "0.3.2",
      "provenance": []
    },
    "kernelspec": {
      "display_name": "Python 3",
      "language": "python",
      "name": "python3"
    }
  },
  "cells": [
    {
      "metadata": {
        "autoscroll": false,
        "ein.hycell": false,
        "ein.tags": "worksheet-0",
        "id": "DUQKCD5IGvKt",
        "colab_type": "code",
        "colab": {}
      },
      "cell_type": "code",
      "source": [
        "# Our jupyter/datascience-notebook Docker container comes with \n",
        "# BeautifulSoup4 and requests, both popular libraries!\n",
        "\n",
        "from bs4 import BeautifulSoup\n",
        "import requests"
      ],
      "execution_count": 0,
      "outputs": []
    },
    {
      "metadata": {
        "autoscroll": false,
        "ein.hycell": false,
        "ein.tags": "worksheet-0",
        "id": "weACmLgcGvKx",
        "colab_type": "code",
        "colab": {}
      },
      "cell_type": "code",
      "source": [
        "START_URL = 'https://brickset.com/sets/year-2016'"
      ],
      "execution_count": 0,
      "outputs": []
    },
    {
      "metadata": {
        "autoscroll": false,
        "ein.hycell": false,
        "ein.tags": "worksheet-0",
        "id": "hU2Wf_BRGvK1",
        "colab_type": "code",
        "colab": {}
      },
      "cell_type": "code",
      "source": [
        "def get_titles(soup):    \n",
        "    \"\"\" Returns a list of titles on the page \"\"\"\n",
        "    # the \"soup\" parameter is of the type that is\n",
        "    # returned by Beautiful Soup when it parses HTML.\n",
        "    # The function should then use the object to\n",
        "    # extract a list of titles (of the lego sets)\n",
        "    #\n",
        "    titles = []\n",
        "    for meta in soup.find_all('div', {'class' : 'meta'}):\n",
        "        titles.append(meta.h1.text)\n",
        "    \n",
        "    # Lookup the documentation for Beautiful Soup\n",
        "    # Figure out how to select the text of the title\n",
        "    # of each legoset. A title should look like: \n",
        "    # \"10252: Volkswagen Beetle\"\n",
        "    return titles\n",
        "\n",
        "def parse_bricks(url):\n",
        "    \"\"\" Fetches Lego Bricks page and extracts titles \"\"\"\n",
        "    # Lookup the documentation to the \"requests\" library\n",
        "    #\n",
        "    # Use requests to make a get request to the\n",
        "    # url given in the argument \"url\" (which is a string)\n",
        "    # and get the raw HTML body of the response\n",
        "    #\n",
        "    req = requests.get(url)\n",
        "    \n",
        "    # Use \"BeautifulSoup\" to parse this HTML.\n",
        "    \n",
        "    soup = BeautifulSoup(req.text, \"html\")\n",
        "    #\n",
        "    # Use the \"get_titles\" function to extract the\n",
        "    # titles from the BeautifulSoup object.\n",
        "    \n",
        "    titles = get_titles(soup)\n",
        "    #\n",
        "    # Return the titles\n",
        "    return titles"
      ],
      "execution_count": 0,
      "outputs": []
    },
    {
      "metadata": {
        "id": "rKxiqjIcr4XM",
        "colab_type": "code",
        "colab": {}
      },
      "cell_type": "code",
      "source": [
        "    req = requests.get(START_URL)\n",
        "    \n",
        "    # Use \"BeautifulSoup\" to parse this HTML.\n",
        "    \n",
        "    soup = BeautifulSoup(req.text, \"html\")\n",
        "    "
      ],
      "execution_count": 0,
      "outputs": []
    },
    {
      "metadata": {
        "id": "JfpteYIGsA0i",
        "colab_type": "code",
        "colab": {
          "base_uri": "https://localhost:8080/",
          "height": 34
        },
        "outputId": "653d4856-bc38-4e02-b8ea-974b0cd79f18"
      },
      "cell_type": "code",
      "source": [
        "soup.select('li.next a')[0]['href']"
      ],
      "execution_count": 34,
      "outputs": [
        {
          "output_type": "execute_result",
          "data": {
            "text/plain": [
              "'https://brickset.com/sets/year-2016/page-2'"
            ]
          },
          "metadata": {
            "tags": []
          },
          "execution_count": 34
        }
      ]
    },
    {
      "metadata": {
        "autoscroll": false,
        "ein.hycell": false,
        "ein.tags": "worksheet-0",
        "id": "TliERvzUGvK4",
        "colab_type": "code",
        "colab": {}
      },
      "cell_type": "code",
      "source": [
        "bricks = parse_bricks(START_URL)"
      ],
      "execution_count": 0,
      "outputs": []
    },
    {
      "metadata": {
        "autoscroll": false,
        "ein.hycell": false,
        "ein.tags": "worksheet-0",
        "id": "q_-dR40CGvK7",
        "colab_type": "code",
        "colab": {}
      },
      "cell_type": "code",
      "source": [
        "assert(bricks[0] == '10251:  Brick Bank')\n",
        "assert(bricks[9] == '10722:  Snake Showdown')"
      ],
      "execution_count": 0,
      "outputs": []
    },
    {
      "metadata": {
        "id": "osO-i0HmGvK9",
        "colab_type": "code",
        "colab": {
          "base_uri": "https://localhost:8080/",
          "height": 442
        },
        "outputId": "95976d69-3c0c-440e-c732-d2c0ebd61407"
      },
      "cell_type": "code",
      "source": [
        "bricks"
      ],
      "execution_count": 12,
      "outputs": [
        {
          "output_type": "execute_result",
          "data": {
            "text/plain": [
              "['10251:  Brick Bank',\n",
              " '10252:  Volkswagen Beetle',\n",
              " '10253:  Big Ben',\n",
              " '10254:  Winter Holiday Train',\n",
              " '10654:  XL Creative Brick Box',\n",
              " '10702:  Creative Building Set',\n",
              " '10705:  Creative Building Basket',\n",
              " '10720:  Police Helicopter Chase',\n",
              " '10721:  Iron Man vs. Loki',\n",
              " '10722:  Snake Showdown',\n",
              " \"10723:  Ariel's Dolphin Carriage\",\n",
              " '10724:  Batman & Superman vs. Lex Luthor',\n",
              " '10725:  Lost Temple',\n",
              " \"10726:  Stephanie's Horse Carriage\",\n",
              " \"10727:  Emma's Ice Cream Truck\",\n",
              " \"10728:  Mia's Vet Clinic\",\n",
              " \"10729:  Cinderella's Carriage\",\n",
              " '10801:  Baby Animals',\n",
              " '10802:  Savanna',\n",
              " '10803:  Arctic',\n",
              " '10804:  Jungle',\n",
              " '10805:  Around the World',\n",
              " '10806:  Horses',\n",
              " '10807:  Horse Trailer',\n",
              " '10808:  Little Plane']"
            ]
          },
          "metadata": {
            "tags": []
          },
          "execution_count": 12
        }
      ]
    },
    {
      "metadata": {
        "id": "2DcBHnisGvLD",
        "colab_type": "code",
        "colab": {}
      },
      "cell_type": "code",
      "source": [
        ""
      ],
      "execution_count": 0,
      "outputs": []
    }
  ]
}